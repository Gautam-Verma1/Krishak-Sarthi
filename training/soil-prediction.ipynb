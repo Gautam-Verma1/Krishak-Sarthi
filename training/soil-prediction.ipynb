{
 "cells": [
  {
   "cell_type": "code",
   "execution_count": 1,
   "id": "69271e1d",
   "metadata": {},
   "outputs": [],
   "source": [
    "import pandas as pd\n",
    "import numpy as np\n",
    "import matplotlib.pyplot as plt\n",
    "%matplotlib inline\n",
    "import seaborn as sns"
   ]
  },
  {
   "cell_type": "code",
   "execution_count": 2,
   "id": "4f942821",
   "metadata": {},
   "outputs": [],
   "source": [
    "soil_data = pd.read_csv('soil-data.csv')"
   ]
  },
  {
   "cell_type": "code",
   "execution_count": 3,
   "id": "5ad2a0d1",
   "metadata": {},
   "outputs": [
    {
     "data": {
      "text/html": [
       "<div>\n",
       "<style scoped>\n",
       "    .dataframe tbody tr th:only-of-type {\n",
       "        vertical-align: middle;\n",
       "    }\n",
       "\n",
       "    .dataframe tbody tr th {\n",
       "        vertical-align: top;\n",
       "    }\n",
       "\n",
       "    .dataframe thead th {\n",
       "        text-align: right;\n",
       "    }\n",
       "</style>\n",
       "<table border=\"1\" class=\"dataframe\">\n",
       "  <thead>\n",
       "    <tr style=\"text-align: right;\">\n",
       "      <th></th>\n",
       "      <th>pH</th>\n",
       "      <th>EC</th>\n",
       "      <th>OC</th>\n",
       "      <th>OM</th>\n",
       "      <th>N</th>\n",
       "      <th>P</th>\n",
       "      <th>K</th>\n",
       "      <th>Zn</th>\n",
       "      <th>Fe</th>\n",
       "      <th>Cu</th>\n",
       "      <th>Mn</th>\n",
       "      <th>Sand</th>\n",
       "      <th>Silt</th>\n",
       "      <th>Clay</th>\n",
       "      <th>CaCO3</th>\n",
       "      <th>CEC</th>\n",
       "      <th>Output</th>\n",
       "    </tr>\n",
       "  </thead>\n",
       "  <tbody>\n",
       "    <tr>\n",
       "      <th>0</th>\n",
       "      <td>7.74</td>\n",
       "      <td>0.40</td>\n",
       "      <td>0.01</td>\n",
       "      <td>0.01</td>\n",
       "      <td>75</td>\n",
       "      <td>20.0</td>\n",
       "      <td>279</td>\n",
       "      <td>0.48</td>\n",
       "      <td>6.4</td>\n",
       "      <td>0.21</td>\n",
       "      <td>4.7</td>\n",
       "      <td>84.3</td>\n",
       "      <td>6.8</td>\n",
       "      <td>8.9</td>\n",
       "      <td>6.72</td>\n",
       "      <td>7.81</td>\n",
       "      <td>Fertile</td>\n",
       "    </tr>\n",
       "    <tr>\n",
       "      <th>1</th>\n",
       "      <td>9.02</td>\n",
       "      <td>0.31</td>\n",
       "      <td>0.02</td>\n",
       "      <td>0.03</td>\n",
       "      <td>85</td>\n",
       "      <td>15.7</td>\n",
       "      <td>247</td>\n",
       "      <td>0.27</td>\n",
       "      <td>6.4</td>\n",
       "      <td>0.16</td>\n",
       "      <td>5.6</td>\n",
       "      <td>90.4</td>\n",
       "      <td>3.9</td>\n",
       "      <td>5.7</td>\n",
       "      <td>4.61</td>\n",
       "      <td>7.19</td>\n",
       "      <td>Fertile</td>\n",
       "    </tr>\n",
       "    <tr>\n",
       "      <th>2</th>\n",
       "      <td>7.80</td>\n",
       "      <td>0.17</td>\n",
       "      <td>0.02</td>\n",
       "      <td>0.03</td>\n",
       "      <td>77</td>\n",
       "      <td>35.6</td>\n",
       "      <td>265</td>\n",
       "      <td>0.46</td>\n",
       "      <td>6.2</td>\n",
       "      <td>0.51</td>\n",
       "      <td>6.1</td>\n",
       "      <td>84.5</td>\n",
       "      <td>6.9</td>\n",
       "      <td>8.6</td>\n",
       "      <td>1.53</td>\n",
       "      <td>12.32</td>\n",
       "      <td>Fertile</td>\n",
       "    </tr>\n",
       "    <tr>\n",
       "      <th>3</th>\n",
       "      <td>8.36</td>\n",
       "      <td>0.02</td>\n",
       "      <td>0.03</td>\n",
       "      <td>0.05</td>\n",
       "      <td>106</td>\n",
       "      <td>6.4</td>\n",
       "      <td>127</td>\n",
       "      <td>0.50</td>\n",
       "      <td>3.1</td>\n",
       "      <td>0.28</td>\n",
       "      <td>2.3</td>\n",
       "      <td>93.9</td>\n",
       "      <td>1.7</td>\n",
       "      <td>4.4</td>\n",
       "      <td>0.00</td>\n",
       "      <td>1.60</td>\n",
       "      <td>Non Fertile</td>\n",
       "    </tr>\n",
       "    <tr>\n",
       "      <th>4</th>\n",
       "      <td>8.36</td>\n",
       "      <td>1.08</td>\n",
       "      <td>0.03</td>\n",
       "      <td>0.05</td>\n",
       "      <td>96</td>\n",
       "      <td>10.5</td>\n",
       "      <td>96</td>\n",
       "      <td>0.31</td>\n",
       "      <td>3.2</td>\n",
       "      <td>0.23</td>\n",
       "      <td>4.1</td>\n",
       "      <td>91.5</td>\n",
       "      <td>4.1</td>\n",
       "      <td>4.4</td>\n",
       "      <td>9.08</td>\n",
       "      <td>7.21</td>\n",
       "      <td>Non Fertile</td>\n",
       "    </tr>\n",
       "  </tbody>\n",
       "</table>\n",
       "</div>"
      ],
      "text/plain": [
       "     pH    EC    OC    OM    N     P    K    Zn   Fe    Cu   Mn  Sand  Silt  \\\n",
       "0  7.74  0.40  0.01  0.01   75  20.0  279  0.48  6.4  0.21  4.7  84.3   6.8   \n",
       "1  9.02  0.31  0.02  0.03   85  15.7  247  0.27  6.4  0.16  5.6  90.4   3.9   \n",
       "2  7.80  0.17  0.02  0.03   77  35.6  265  0.46  6.2  0.51  6.1  84.5   6.9   \n",
       "3  8.36  0.02  0.03  0.05  106   6.4  127  0.50  3.1  0.28  2.3  93.9   1.7   \n",
       "4  8.36  1.08  0.03  0.05   96  10.5   96  0.31  3.2  0.23  4.1  91.5   4.1   \n",
       "\n",
       "   Clay  CaCO3    CEC       Output  \n",
       "0   8.9   6.72   7.81      Fertile  \n",
       "1   5.7   4.61   7.19      Fertile  \n",
       "2   8.6   1.53  12.32      Fertile  \n",
       "3   4.4   0.00   1.60  Non Fertile  \n",
       "4   4.4   9.08   7.21  Non Fertile  "
      ]
     },
     "execution_count": 3,
     "metadata": {},
     "output_type": "execute_result"
    }
   ],
   "source": [
    "soil_data.head()"
   ]
  },
  {
   "cell_type": "code",
   "execution_count": 4,
   "id": "aec7a58e",
   "metadata": {},
   "outputs": [
    {
     "data": {
      "text/html": [
       "<div>\n",
       "<style scoped>\n",
       "    .dataframe tbody tr th:only-of-type {\n",
       "        vertical-align: middle;\n",
       "    }\n",
       "\n",
       "    .dataframe tbody tr th {\n",
       "        vertical-align: top;\n",
       "    }\n",
       "\n",
       "    .dataframe thead th {\n",
       "        text-align: right;\n",
       "    }\n",
       "</style>\n",
       "<table border=\"1\" class=\"dataframe\">\n",
       "  <thead>\n",
       "    <tr style=\"text-align: right;\">\n",
       "      <th></th>\n",
       "      <th>pH</th>\n",
       "      <th>EC</th>\n",
       "      <th>OC</th>\n",
       "      <th>OM</th>\n",
       "      <th>N</th>\n",
       "      <th>P</th>\n",
       "      <th>K</th>\n",
       "      <th>Zn</th>\n",
       "      <th>Fe</th>\n",
       "      <th>Cu</th>\n",
       "      <th>Mn</th>\n",
       "      <th>Sand</th>\n",
       "      <th>Silt</th>\n",
       "      <th>Clay</th>\n",
       "      <th>CaCO3</th>\n",
       "      <th>CEC</th>\n",
       "      <th>Output</th>\n",
       "    </tr>\n",
       "  </thead>\n",
       "  <tbody>\n",
       "    <tr>\n",
       "      <th>95</th>\n",
       "      <td>9.21</td>\n",
       "      <td>0.14</td>\n",
       "      <td>0.62</td>\n",
       "      <td>1.06</td>\n",
       "      <td>278</td>\n",
       "      <td>9.8</td>\n",
       "      <td>165</td>\n",
       "      <td>0.18</td>\n",
       "      <td>8.6</td>\n",
       "      <td>0.57</td>\n",
       "      <td>5.8</td>\n",
       "      <td>88.2</td>\n",
       "      <td>2.4</td>\n",
       "      <td>9.4</td>\n",
       "      <td>4.23</td>\n",
       "      <td>8.81</td>\n",
       "      <td>Fertile</td>\n",
       "    </tr>\n",
       "    <tr>\n",
       "      <th>96</th>\n",
       "      <td>7.50</td>\n",
       "      <td>0.22</td>\n",
       "      <td>0.68</td>\n",
       "      <td>1.17</td>\n",
       "      <td>272</td>\n",
       "      <td>9.5</td>\n",
       "      <td>139</td>\n",
       "      <td>0.72</td>\n",
       "      <td>2.6</td>\n",
       "      <td>0.12</td>\n",
       "      <td>1.8</td>\n",
       "      <td>95.4</td>\n",
       "      <td>1.4</td>\n",
       "      <td>3.2</td>\n",
       "      <td>0.00</td>\n",
       "      <td>5.58</td>\n",
       "      <td>Non Fertile</td>\n",
       "    </tr>\n",
       "    <tr>\n",
       "      <th>97</th>\n",
       "      <td>8.26</td>\n",
       "      <td>0.25</td>\n",
       "      <td>0.71</td>\n",
       "      <td>1.22</td>\n",
       "      <td>277</td>\n",
       "      <td>11.5</td>\n",
       "      <td>264</td>\n",
       "      <td>0.36</td>\n",
       "      <td>7.6</td>\n",
       "      <td>0.07</td>\n",
       "      <td>0.8</td>\n",
       "      <td>90.7</td>\n",
       "      <td>2.5</td>\n",
       "      <td>6.8</td>\n",
       "      <td>3.85</td>\n",
       "      <td>7.26</td>\n",
       "      <td>Fertile</td>\n",
       "    </tr>\n",
       "    <tr>\n",
       "      <th>98</th>\n",
       "      <td>8.12</td>\n",
       "      <td>0.14</td>\n",
       "      <td>0.73</td>\n",
       "      <td>1.25</td>\n",
       "      <td>265</td>\n",
       "      <td>4.6</td>\n",
       "      <td>283</td>\n",
       "      <td>0.38</td>\n",
       "      <td>3.7</td>\n",
       "      <td>0.18</td>\n",
       "      <td>0.8</td>\n",
       "      <td>86.0</td>\n",
       "      <td>6.7</td>\n",
       "      <td>7.3</td>\n",
       "      <td>0.00</td>\n",
       "      <td>3.10</td>\n",
       "      <td>Non Fertile</td>\n",
       "    </tr>\n",
       "    <tr>\n",
       "      <th>99</th>\n",
       "      <td>7.31</td>\n",
       "      <td>0.46</td>\n",
       "      <td>0.74</td>\n",
       "      <td>1.27</td>\n",
       "      <td>277</td>\n",
       "      <td>32.4</td>\n",
       "      <td>241</td>\n",
       "      <td>0.27</td>\n",
       "      <td>8.2</td>\n",
       "      <td>0.23</td>\n",
       "      <td>4.2</td>\n",
       "      <td>80.5</td>\n",
       "      <td>6.8</td>\n",
       "      <td>12.7</td>\n",
       "      <td>4.86</td>\n",
       "      <td>6.51</td>\n",
       "      <td>Fertile</td>\n",
       "    </tr>\n",
       "  </tbody>\n",
       "</table>\n",
       "</div>"
      ],
      "text/plain": [
       "      pH    EC    OC    OM    N     P    K    Zn   Fe    Cu   Mn  Sand  Silt  \\\n",
       "95  9.21  0.14  0.62  1.06  278   9.8  165  0.18  8.6  0.57  5.8  88.2   2.4   \n",
       "96  7.50  0.22  0.68  1.17  272   9.5  139  0.72  2.6  0.12  1.8  95.4   1.4   \n",
       "97  8.26  0.25  0.71  1.22  277  11.5  264  0.36  7.6  0.07  0.8  90.7   2.5   \n",
       "98  8.12  0.14  0.73  1.25  265   4.6  283  0.38  3.7  0.18  0.8  86.0   6.7   \n",
       "99  7.31  0.46  0.74  1.27  277  32.4  241  0.27  8.2  0.23  4.2  80.5   6.8   \n",
       "\n",
       "    Clay  CaCO3   CEC       Output  \n",
       "95   9.4   4.23  8.81      Fertile  \n",
       "96   3.2   0.00  5.58  Non Fertile  \n",
       "97   6.8   3.85  7.26      Fertile  \n",
       "98   7.3   0.00  3.10  Non Fertile  \n",
       "99  12.7   4.86  6.51      Fertile  "
      ]
     },
     "execution_count": 4,
     "metadata": {},
     "output_type": "execute_result"
    }
   ],
   "source": [
    "soil_data.tail()"
   ]
  },
  {
   "cell_type": "code",
   "execution_count": 5,
   "id": "4a872ca9",
   "metadata": {},
   "outputs": [
    {
     "data": {
      "text/html": [
       "<div>\n",
       "<style scoped>\n",
       "    .dataframe tbody tr th:only-of-type {\n",
       "        vertical-align: middle;\n",
       "    }\n",
       "\n",
       "    .dataframe tbody tr th {\n",
       "        vertical-align: top;\n",
       "    }\n",
       "\n",
       "    .dataframe thead th {\n",
       "        text-align: right;\n",
       "    }\n",
       "</style>\n",
       "<table border=\"1\" class=\"dataframe\">\n",
       "  <thead>\n",
       "    <tr style=\"text-align: right;\">\n",
       "      <th></th>\n",
       "      <th>pH</th>\n",
       "      <th>EC</th>\n",
       "      <th>OC</th>\n",
       "      <th>OM</th>\n",
       "      <th>N</th>\n",
       "      <th>P</th>\n",
       "      <th>K</th>\n",
       "      <th>Zn</th>\n",
       "      <th>Fe</th>\n",
       "      <th>Cu</th>\n",
       "      <th>Mn</th>\n",
       "      <th>Sand</th>\n",
       "      <th>Silt</th>\n",
       "      <th>Clay</th>\n",
       "      <th>CaCO3</th>\n",
       "      <th>CEC</th>\n",
       "    </tr>\n",
       "  </thead>\n",
       "  <tbody>\n",
       "    <tr>\n",
       "      <th>count</th>\n",
       "      <td>100.000000</td>\n",
       "      <td>100.00000</td>\n",
       "      <td>100.000000</td>\n",
       "      <td>100.000000</td>\n",
       "      <td>100.000000</td>\n",
       "      <td>100.000000</td>\n",
       "      <td>100.000000</td>\n",
       "      <td>100.000000</td>\n",
       "      <td>100.000000</td>\n",
       "      <td>100.000000</td>\n",
       "      <td>100.000000</td>\n",
       "      <td>100.00000</td>\n",
       "      <td>100.00000</td>\n",
       "      <td>100.000000</td>\n",
       "      <td>100.000000</td>\n",
       "      <td>100.000000</td>\n",
       "    </tr>\n",
       "    <tr>\n",
       "      <th>mean</th>\n",
       "      <td>8.286500</td>\n",
       "      <td>0.29030</td>\n",
       "      <td>0.195200</td>\n",
       "      <td>0.331400</td>\n",
       "      <td>172.760000</td>\n",
       "      <td>13.195500</td>\n",
       "      <td>214.110000</td>\n",
       "      <td>0.494800</td>\n",
       "      <td>4.525000</td>\n",
       "      <td>0.306600</td>\n",
       "      <td>3.149000</td>\n",
       "      <td>87.31500</td>\n",
       "      <td>5.67300</td>\n",
       "      <td>7.011000</td>\n",
       "      <td>4.123000</td>\n",
       "      <td>5.239200</td>\n",
       "    </tr>\n",
       "    <tr>\n",
       "      <th>std</th>\n",
       "      <td>0.527127</td>\n",
       "      <td>0.26529</td>\n",
       "      <td>0.170486</td>\n",
       "      <td>0.293942</td>\n",
       "      <td>60.291735</td>\n",
       "      <td>8.391076</td>\n",
       "      <td>86.966834</td>\n",
       "      <td>0.257413</td>\n",
       "      <td>1.833767</td>\n",
       "      <td>0.173498</td>\n",
       "      <td>1.797388</td>\n",
       "      <td>5.21897</td>\n",
       "      <td>3.43937</td>\n",
       "      <td>2.801222</td>\n",
       "      <td>3.926872</td>\n",
       "      <td>2.935344</td>\n",
       "    </tr>\n",
       "    <tr>\n",
       "      <th>min</th>\n",
       "      <td>6.520000</td>\n",
       "      <td>0.02000</td>\n",
       "      <td>0.010000</td>\n",
       "      <td>0.010000</td>\n",
       "      <td>75.000000</td>\n",
       "      <td>1.800000</td>\n",
       "      <td>70.000000</td>\n",
       "      <td>0.040000</td>\n",
       "      <td>1.000000</td>\n",
       "      <td>0.010000</td>\n",
       "      <td>0.200000</td>\n",
       "      <td>77.20000</td>\n",
       "      <td>1.10000</td>\n",
       "      <td>2.000000</td>\n",
       "      <td>0.000000</td>\n",
       "      <td>1.200000</td>\n",
       "    </tr>\n",
       "    <tr>\n",
       "      <th>25%</th>\n",
       "      <td>8.060000</td>\n",
       "      <td>0.13000</td>\n",
       "      <td>0.080000</td>\n",
       "      <td>0.130000</td>\n",
       "      <td>125.000000</td>\n",
       "      <td>7.725000</td>\n",
       "      <td>145.000000</td>\n",
       "      <td>0.317500</td>\n",
       "      <td>3.200000</td>\n",
       "      <td>0.180000</td>\n",
       "      <td>1.800000</td>\n",
       "      <td>83.65000</td>\n",
       "      <td>3.57500</td>\n",
       "      <td>5.300000</td>\n",
       "      <td>0.000000</td>\n",
       "      <td>3.175000</td>\n",
       "    </tr>\n",
       "    <tr>\n",
       "      <th>50%</th>\n",
       "      <td>8.330000</td>\n",
       "      <td>0.18000</td>\n",
       "      <td>0.140000</td>\n",
       "      <td>0.240000</td>\n",
       "      <td>162.000000</td>\n",
       "      <td>10.450000</td>\n",
       "      <td>187.000000</td>\n",
       "      <td>0.460000</td>\n",
       "      <td>4.150000</td>\n",
       "      <td>0.280000</td>\n",
       "      <td>3.100000</td>\n",
       "      <td>88.30000</td>\n",
       "      <td>4.85000</td>\n",
       "      <td>6.650000</td>\n",
       "      <td>3.540000</td>\n",
       "      <td>4.885000</td>\n",
       "    </tr>\n",
       "    <tr>\n",
       "      <th>75%</th>\n",
       "      <td>8.580000</td>\n",
       "      <td>0.34250</td>\n",
       "      <td>0.240000</td>\n",
       "      <td>0.410000</td>\n",
       "      <td>218.000000</td>\n",
       "      <td>18.500000</td>\n",
       "      <td>265.750000</td>\n",
       "      <td>0.625000</td>\n",
       "      <td>6.100000</td>\n",
       "      <td>0.402500</td>\n",
       "      <td>4.225000</td>\n",
       "      <td>90.52500</td>\n",
       "      <td>7.50000</td>\n",
       "      <td>9.000000</td>\n",
       "      <td>6.305000</td>\n",
       "      <td>6.962500</td>\n",
       "    </tr>\n",
       "    <tr>\n",
       "      <th>max</th>\n",
       "      <td>9.480000</td>\n",
       "      <td>1.58000</td>\n",
       "      <td>0.740000</td>\n",
       "      <td>1.270000</td>\n",
       "      <td>278.000000</td>\n",
       "      <td>35.600000</td>\n",
       "      <td>480.000000</td>\n",
       "      <td>1.300000</td>\n",
       "      <td>9.100000</td>\n",
       "      <td>0.730000</td>\n",
       "      <td>7.500000</td>\n",
       "      <td>96.20000</td>\n",
       "      <td>18.00000</td>\n",
       "      <td>13.800000</td>\n",
       "      <td>16.190000</td>\n",
       "      <td>16.270000</td>\n",
       "    </tr>\n",
       "  </tbody>\n",
       "</table>\n",
       "</div>"
      ],
      "text/plain": [
       "               pH         EC          OC          OM           N           P  \\\n",
       "count  100.000000  100.00000  100.000000  100.000000  100.000000  100.000000   \n",
       "mean     8.286500    0.29030    0.195200    0.331400  172.760000   13.195500   \n",
       "std      0.527127    0.26529    0.170486    0.293942   60.291735    8.391076   \n",
       "min      6.520000    0.02000    0.010000    0.010000   75.000000    1.800000   \n",
       "25%      8.060000    0.13000    0.080000    0.130000  125.000000    7.725000   \n",
       "50%      8.330000    0.18000    0.140000    0.240000  162.000000   10.450000   \n",
       "75%      8.580000    0.34250    0.240000    0.410000  218.000000   18.500000   \n",
       "max      9.480000    1.58000    0.740000    1.270000  278.000000   35.600000   \n",
       "\n",
       "                K          Zn          Fe          Cu          Mn       Sand  \\\n",
       "count  100.000000  100.000000  100.000000  100.000000  100.000000  100.00000   \n",
       "mean   214.110000    0.494800    4.525000    0.306600    3.149000   87.31500   \n",
       "std     86.966834    0.257413    1.833767    0.173498    1.797388    5.21897   \n",
       "min     70.000000    0.040000    1.000000    0.010000    0.200000   77.20000   \n",
       "25%    145.000000    0.317500    3.200000    0.180000    1.800000   83.65000   \n",
       "50%    187.000000    0.460000    4.150000    0.280000    3.100000   88.30000   \n",
       "75%    265.750000    0.625000    6.100000    0.402500    4.225000   90.52500   \n",
       "max    480.000000    1.300000    9.100000    0.730000    7.500000   96.20000   \n",
       "\n",
       "            Silt        Clay       CaCO3         CEC  \n",
       "count  100.00000  100.000000  100.000000  100.000000  \n",
       "mean     5.67300    7.011000    4.123000    5.239200  \n",
       "std      3.43937    2.801222    3.926872    2.935344  \n",
       "min      1.10000    2.000000    0.000000    1.200000  \n",
       "25%      3.57500    5.300000    0.000000    3.175000  \n",
       "50%      4.85000    6.650000    3.540000    4.885000  \n",
       "75%      7.50000    9.000000    6.305000    6.962500  \n",
       "max     18.00000   13.800000   16.190000   16.270000  "
      ]
     },
     "execution_count": 5,
     "metadata": {},
     "output_type": "execute_result"
    }
   ],
   "source": [
    "soil_data.describe()"
   ]
  },
  {
   "cell_type": "code",
   "execution_count": 6,
   "id": "5b42b3bc",
   "metadata": {},
   "outputs": [
    {
     "data": {
      "text/plain": [
       "pH        float64\n",
       "EC        float64\n",
       "OC        float64\n",
       "OM        float64\n",
       "N           int64\n",
       "P         float64\n",
       "K           int64\n",
       "Zn        float64\n",
       "Fe        float64\n",
       "Cu        float64\n",
       "Mn        float64\n",
       "Sand      float64\n",
       "Silt      float64\n",
       "Clay      float64\n",
       "CaCO3     float64\n",
       "CEC       float64\n",
       "Output     object\n",
       "dtype: object"
      ]
     },
     "execution_count": 6,
     "metadata": {},
     "output_type": "execute_result"
    }
   ],
   "source": [
    "soil_data.dtypes"
   ]
  },
  {
   "cell_type": "code",
   "execution_count": 7,
   "id": "e620ed60",
   "metadata": {},
   "outputs": [
    {
     "data": {
      "text/plain": [
       "Index(['pH', 'EC', 'OC', 'OM', 'N', 'P', 'K', 'Zn', 'Fe', 'Cu', 'Mn', 'Sand',\n",
       "       'Silt', 'Clay', 'CaCO3', 'CEC', 'Output'],\n",
       "      dtype='object')"
      ]
     },
     "execution_count": 7,
     "metadata": {},
     "output_type": "execute_result"
    }
   ],
   "source": [
    "soil_data.columns"
   ]
  },
  {
   "cell_type": "code",
   "execution_count": 8,
   "id": "b3baa67c",
   "metadata": {},
   "outputs": [
    {
     "data": {
      "text/plain": [
       "array([7.74, 9.02, 7.8 , 8.36, 7.69, 8.39, 7.87, 8.09, 8.26, 7.9 , 8.12,\n",
       "       8.64, 8.38, 8.37, 8.52, 8.67, 8.4 , 7.53, 8.65, 8.23, 8.47, 8.06,\n",
       "       8.31, 8.45, 6.52, 8.57, 7.78, 8.32, 7.49, 8.04, 8.2 , 8.03, 7.42,\n",
       "       9.27, 8.66, 8.27, 9.32, 7.07, 8.72, 8.29, 8.34, 8.21, 8.93, 7.82,\n",
       "       8.28, 7.94, 9.21, 8.73, 8.8 , 6.92, 8.62, 8.08, 9.23, 8.17, 7.48,\n",
       "       7.61, 9.19, 8.11, 8.25, 8.5 , 8.48, 8.42, 8.61, 9.48, 8.54, 7.45,\n",
       "       9.2 , 8.7 , 8.76, 7.5 , 7.31])"
      ]
     },
     "execution_count": 8,
     "metadata": {},
     "output_type": "execute_result"
    }
   ],
   "source": [
    "soil_data.pH.unique()"
   ]
  },
  {
   "cell_type": "code",
   "execution_count": 9,
   "id": "b4fe7744",
   "metadata": {},
   "outputs": [
    {
     "data": {
      "text/plain": [
       "100"
      ]
     },
     "execution_count": 9,
     "metadata": {},
     "output_type": "execute_result"
    }
   ],
   "source": [
    "soil_data.pH.count()"
   ]
  },
  {
   "cell_type": "code",
   "execution_count": 11,
   "id": "8c7f0f01",
   "metadata": {},
   "outputs": [
    {
     "data": {
      "text/plain": [
       "<Axes: xlabel='Output', ylabel='count'>"
      ]
     },
     "execution_count": 11,
     "metadata": {},
     "output_type": "execute_result"
    },
    {
     "data": {
      "image/png": "[encoded data removed]",
      "text/plain": [
       "<Figure size 640x480 with 1 Axes>"
      ]
     },
     "metadata": {},
     "output_type": "display_data"
    }
   ],
   "source": [
    "sns.countplot(x='Output', data=soil_data)"
   ]
  },
  {
   "cell_type": "code",
   "execution_count": 12,
   "id": "7b6bca19",
   "metadata": {},
   "outputs": [
    {
     "data": {
      "text/plain": [
       "<Axes: xlabel='Output', ylabel='count'>"
      ]
     },
     "execution_count": 12,
     "metadata": {},
     "output_type": "execute_result"
    },
    {
     "data": {
      "image/png": "[encoded data removed]",
      "text/plain": [
       "<Figure size 640x480 with 1 Axes>"
      ]
     },
     "metadata": {},
     "output_type": "display_data"
    }
   ],
   "source": [
    "sns.countplot(x='Output', hue='pH', data=soil_data)"
   ]
  },
  {
   "cell_type": "code",
   "execution_count": 15,
   "id": "ddd9da94",
   "metadata": {},
   "outputs": [
    {
     "data": {
      "text/plain": [
       "(array([ 1.,  2.,  1.,  9.,  9., 26., 27., 13.,  4.,  8.]),\n",
       " array([6.52 , 6.816, 7.112, 7.408, 7.704, 8.   , 8.296, 8.592, 8.888,\n",
       "        9.184, 9.48 ]),\n",
       " <BarContainer object of 10 artists>)"
      ]
     },
     "execution_count": 15,
     "metadata": {},
     "output_type": "execute_result"
    },
    {
     "data": {
      "image/png": "[encoded data removed]",
      "text/plain": [
       "<Figure size 640x480 with 1 Axes>"
      ]
     },
     "metadata": {},
     "output_type": "display_data"
    }
   ],
   "source": [
    "plt.hist(soil_data['pH'])"
   ]
  },
  {
   "cell_type": "code",
   "execution_count": 16,
   "id": "8b82fba3",
   "metadata": {},
   "outputs": [
    {
     "data": {
      "text/plain": [
       "<Axes: >"
      ]
     },
     "execution_count": 16,
     "metadata": {},
     "output_type": "execute_result"
    },
    {
     "data": {
      "image/png": "[encoded data removed]",
      "text/plain": [
       "<Figure size 640x480 with 1 Axes>"
      ]
     },
     "metadata": {},
     "output_type": "display_data"
    }
   ],
   "source": [
    "sns.heatmap(soil_data.isnull(), cbar=False)"
   ]
  },
  {
   "cell_type": "code",
   "execution_count": 19,
   "id": "50e2e7e1",
   "metadata": {},
   "outputs": [
    {
     "data": {
      "text/plain": [
       "<Axes: >"
      ]
     },
     "execution_count": 19,
     "metadata": {},
     "output_type": "execute_result"
    },
    {
     "data": {
      "image/png": "[encoded data removed]",
      "text/plain": [
       "<Figure size 640x480 with 1 Axes>"
      ]
     },
     "metadata": {},
     "output_type": "display_data"
    }
   ],
   "source": [
    "sns.boxplot(soil_data['pH'])"
   ]
  },
  {
   "cell_type": "code",
   "execution_count": 20,
   "id": "1899b4ad",
   "metadata": {},
   "outputs": [],
   "source": [
    "from sklearn.model_selection import train_test_split"
   ]
  },
  {
   "cell_type": "code",
   "execution_count": 22,
   "id": "81c92f94",
   "metadata": {},
   "outputs": [],
   "source": [
    "x = soil_data[['pH', 'EC', 'OC', 'OM', 'N', 'P', 'K', 'Zn', 'Fe', 'Cu', 'Mn', 'Sand',\n",
    "       'Silt', 'Clay', 'CaCO3', 'CEC']]"
   ]
  },
  {
   "cell_type": "code",
   "execution_count": 24,
   "id": "b7492c3a",
   "metadata": {},
   "outputs": [],
   "source": [
    "y = soil_data['Output']"
   ]
  },
  {
   "cell_type": "code",
   "execution_count": 25,
   "id": "d9be28a3",
   "metadata": {},
   "outputs": [],
   "source": [
    "from sklearn.model_selection import train_test_split"
   ]
  },
  {
   "cell_type": "code",
   "execution_count": 26,
   "id": "22205088",
   "metadata": {},
   "outputs": [],
   "source": [
    "x_train, x_test, y_train, y_test = train_test_split(x, y, test_size = 0.3)"
   ]
  },
  {
   "cell_type": "code",
   "execution_count": 27,
   "id": "48c006f5",
   "metadata": {},
   "outputs": [],
   "source": [
    "from sklearn.linear_model import LinearRegression"
   ]
  },
  {
   "cell_type": "code",
   "execution_count": 28,
   "id": "915e5ffe",
   "metadata": {},
   "outputs": [],
   "source": [
    "model = LinearRegression()"
   ]
  },
  {
   "cell_type": "code",
   "execution_count": 30,
   "id": "69c060bd",
   "metadata": {},
   "outputs": [],
   "source": [
    "from sklearn.preprocessing import LabelEncoder\n",
    "\n",
    "encoder = LabelEncoder()\n",
    "soil_data['Output'] = encoder.fit_transform(soil_data['Output'])"
   ]
  },
  {
   "cell_type": "code",
   "execution_count": 31,
   "id": "96ee3db4",
   "metadata": {},
   "outputs": [
    {
     "data": {
      "text/html": [
       "<div>\n",
       "<style scoped>\n",
       "    .dataframe tbody tr th:only-of-type {\n",
       "        vertical-align: middle;\n",
       "    }\n",
       "\n",
       "    .dataframe tbody tr th {\n",
       "        vertical-align: top;\n",
       "    }\n",
       "\n",
       "    .dataframe thead th {\n",
       "        text-align: right;\n",
       "    }\n",
       "</style>\n",
       "<table border=\"1\" class=\"dataframe\">\n",
       "  <thead>\n",
       "    <tr style=\"text-align: right;\">\n",
       "      <th></th>\n",
       "      <th>pH</th>\n",
       "      <th>EC</th>\n",
       "      <th>OC</th>\n",
       "      <th>OM</th>\n",
       "      <th>N</th>\n",
       "      <th>P</th>\n",
       "      <th>K</th>\n",
       "      <th>Zn</th>\n",
       "      <th>Fe</th>\n",
       "      <th>Cu</th>\n",
       "      <th>Mn</th>\n",
       "      <th>Sand</th>\n",
       "      <th>Silt</th>\n",
       "      <th>Clay</th>\n",
       "      <th>CaCO3</th>\n",
       "      <th>CEC</th>\n",
       "      <th>Output</th>\n",
       "    </tr>\n",
       "  </thead>\n",
       "  <tbody>\n",
       "    <tr>\n",
       "      <th>0</th>\n",
       "      <td>7.74</td>\n",
       "      <td>0.40</td>\n",
       "      <td>0.01</td>\n",
       "      <td>0.01</td>\n",
       "      <td>75</td>\n",
       "      <td>20.0</td>\n",
       "      <td>279</td>\n",
       "      <td>0.48</td>\n",
       "      <td>6.4</td>\n",
       "      <td>0.21</td>\n",
       "      <td>4.7</td>\n",
       "      <td>84.3</td>\n",
       "      <td>6.8</td>\n",
       "      <td>8.9</td>\n",
       "      <td>6.72</td>\n",
       "      <td>7.81</td>\n",
       "      <td>0</td>\n",
       "    </tr>\n",
       "    <tr>\n",
       "      <th>1</th>\n",
       "      <td>9.02</td>\n",
       "      <td>0.31</td>\n",
       "      <td>0.02</td>\n",
       "      <td>0.03</td>\n",
       "      <td>85</td>\n",
       "      <td>15.7</td>\n",
       "      <td>247</td>\n",
       "      <td>0.27</td>\n",
       "      <td>6.4</td>\n",
       "      <td>0.16</td>\n",
       "      <td>5.6</td>\n",
       "      <td>90.4</td>\n",
       "      <td>3.9</td>\n",
       "      <td>5.7</td>\n",
       "      <td>4.61</td>\n",
       "      <td>7.19</td>\n",
       "      <td>0</td>\n",
       "    </tr>\n",
       "    <tr>\n",
       "      <th>2</th>\n",
       "      <td>7.80</td>\n",
       "      <td>0.17</td>\n",
       "      <td>0.02</td>\n",
       "      <td>0.03</td>\n",
       "      <td>77</td>\n",
       "      <td>35.6</td>\n",
       "      <td>265</td>\n",
       "      <td>0.46</td>\n",
       "      <td>6.2</td>\n",
       "      <td>0.51</td>\n",
       "      <td>6.1</td>\n",
       "      <td>84.5</td>\n",
       "      <td>6.9</td>\n",
       "      <td>8.6</td>\n",
       "      <td>1.53</td>\n",
       "      <td>12.32</td>\n",
       "      <td>0</td>\n",
       "    </tr>\n",
       "    <tr>\n",
       "      <th>3</th>\n",
       "      <td>8.36</td>\n",
       "      <td>0.02</td>\n",
       "      <td>0.03</td>\n",
       "      <td>0.05</td>\n",
       "      <td>106</td>\n",
       "      <td>6.4</td>\n",
       "      <td>127</td>\n",
       "      <td>0.50</td>\n",
       "      <td>3.1</td>\n",
       "      <td>0.28</td>\n",
       "      <td>2.3</td>\n",
       "      <td>93.9</td>\n",
       "      <td>1.7</td>\n",
       "      <td>4.4</td>\n",
       "      <td>0.00</td>\n",
       "      <td>1.60</td>\n",
       "      <td>1</td>\n",
       "    </tr>\n",
       "    <tr>\n",
       "      <th>4</th>\n",
       "      <td>8.36</td>\n",
       "      <td>1.08</td>\n",
       "      <td>0.03</td>\n",
       "      <td>0.05</td>\n",
       "      <td>96</td>\n",
       "      <td>10.5</td>\n",
       "      <td>96</td>\n",
       "      <td>0.31</td>\n",
       "      <td>3.2</td>\n",
       "      <td>0.23</td>\n",
       "      <td>4.1</td>\n",
       "      <td>91.5</td>\n",
       "      <td>4.1</td>\n",
       "      <td>4.4</td>\n",
       "      <td>9.08</td>\n",
       "      <td>7.21</td>\n",
       "      <td>1</td>\n",
       "    </tr>\n",
       "    <tr>\n",
       "      <th>...</th>\n",
       "      <td>...</td>\n",
       "      <td>...</td>\n",
       "      <td>...</td>\n",
       "      <td>...</td>\n",
       "      <td>...</td>\n",
       "      <td>...</td>\n",
       "      <td>...</td>\n",
       "      <td>...</td>\n",
       "      <td>...</td>\n",
       "      <td>...</td>\n",
       "      <td>...</td>\n",
       "      <td>...</td>\n",
       "      <td>...</td>\n",
       "      <td>...</td>\n",
       "      <td>...</td>\n",
       "      <td>...</td>\n",
       "      <td>...</td>\n",
       "    </tr>\n",
       "    <tr>\n",
       "      <th>95</th>\n",
       "      <td>9.21</td>\n",
       "      <td>0.14</td>\n",
       "      <td>0.62</td>\n",
       "      <td>1.06</td>\n",
       "      <td>278</td>\n",
       "      <td>9.8</td>\n",
       "      <td>165</td>\n",
       "      <td>0.18</td>\n",
       "      <td>8.6</td>\n",
       "      <td>0.57</td>\n",
       "      <td>5.8</td>\n",
       "      <td>88.2</td>\n",
       "      <td>2.4</td>\n",
       "      <td>9.4</td>\n",
       "      <td>4.23</td>\n",
       "      <td>8.81</td>\n",
       "      <td>0</td>\n",
       "    </tr>\n",
       "    <tr>\n",
       "      <th>96</th>\n",
       "      <td>7.50</td>\n",
       "      <td>0.22</td>\n",
       "      <td>0.68</td>\n",
       "      <td>1.17</td>\n",
       "      <td>272</td>\n",
       "      <td>9.5</td>\n",
       "      <td>139</td>\n",
       "      <td>0.72</td>\n",
       "      <td>2.6</td>\n",
       "      <td>0.12</td>\n",
       "      <td>1.8</td>\n",
       "      <td>95.4</td>\n",
       "      <td>1.4</td>\n",
       "      <td>3.2</td>\n",
       "      <td>0.00</td>\n",
       "      <td>5.58</td>\n",
       "      <td>1</td>\n",
       "    </tr>\n",
       "    <tr>\n",
       "      <th>97</th>\n",
       "      <td>8.26</td>\n",
       "      <td>0.25</td>\n",
       "      <td>0.71</td>\n",
       "      <td>1.22</td>\n",
       "      <td>277</td>\n",
       "      <td>11.5</td>\n",
       "      <td>264</td>\n",
       "      <td>0.36</td>\n",
       "      <td>7.6</td>\n",
       "      <td>0.07</td>\n",
       "      <td>0.8</td>\n",
       "      <td>90.7</td>\n",
       "      <td>2.5</td>\n",
       "      <td>6.8</td>\n",
       "      <td>3.85</td>\n",
       "      <td>7.26</td>\n",
       "      <td>0</td>\n",
       "    </tr>\n",
       "    <tr>\n",
       "      <th>98</th>\n",
       "      <td>8.12</td>\n",
       "      <td>0.14</td>\n",
       "      <td>0.73</td>\n",
       "      <td>1.25</td>\n",
       "      <td>265</td>\n",
       "      <td>4.6</td>\n",
       "      <td>283</td>\n",
       "      <td>0.38</td>\n",
       "      <td>3.7</td>\n",
       "      <td>0.18</td>\n",
       "      <td>0.8</td>\n",
       "      <td>86.0</td>\n",
       "      <td>6.7</td>\n",
       "      <td>7.3</td>\n",
       "      <td>0.00</td>\n",
       "      <td>3.10</td>\n",
       "      <td>1</td>\n",
       "    </tr>\n",
       "    <tr>\n",
       "      <th>99</th>\n",
       "      <td>7.31</td>\n",
       "      <td>0.46</td>\n",
       "      <td>0.74</td>\n",
       "      <td>1.27</td>\n",
       "      <td>277</td>\n",
       "      <td>32.4</td>\n",
       "      <td>241</td>\n",
       "      <td>0.27</td>\n",
       "      <td>8.2</td>\n",
       "      <td>0.23</td>\n",
       "      <td>4.2</td>\n",
       "      <td>80.5</td>\n",
       "      <td>6.8</td>\n",
       "      <td>12.7</td>\n",
       "      <td>4.86</td>\n",
       "      <td>6.51</td>\n",
       "      <td>0</td>\n",
       "    </tr>\n",
       "  </tbody>\n",
       "</table>\n",
       "<p>100 rows × 17 columns</p>\n",
       "</div>"
      ],
      "text/plain": [
       "      pH    EC    OC    OM    N     P    K    Zn   Fe    Cu   Mn  Sand  Silt  \\\n",
       "0   7.74  0.40  0.01  0.01   75  20.0  279  0.48  6.4  0.21  4.7  84.3   6.8   \n",
       "1   9.02  0.31  0.02  0.03   85  15.7  247  0.27  6.4  0.16  5.6  90.4   3.9   \n",
       "2   7.80  0.17  0.02  0.03   77  35.6  265  0.46  6.2  0.51  6.1  84.5   6.9   \n",
       "3   8.36  0.02  0.03  0.05  106   6.4  127  0.50  3.1  0.28  2.3  93.9   1.7   \n",
       "4   8.36  1.08  0.03  0.05   96  10.5   96  0.31  3.2  0.23  4.1  91.5   4.1   \n",
       "..   ...   ...   ...   ...  ...   ...  ...   ...  ...   ...  ...   ...   ...   \n",
       "95  9.21  0.14  0.62  1.06  278   9.8  165  0.18  8.6  0.57  5.8  88.2   2.4   \n",
       "96  7.50  0.22  0.68  1.17  272   9.5  139  0.72  2.6  0.12  1.8  95.4   1.4   \n",
       "97  8.26  0.25  0.71  1.22  277  11.5  264  0.36  7.6  0.07  0.8  90.7   2.5   \n",
       "98  8.12  0.14  0.73  1.25  265   4.6  283  0.38  3.7  0.18  0.8  86.0   6.7   \n",
       "99  7.31  0.46  0.74  1.27  277  32.4  241  0.27  8.2  0.23  4.2  80.5   6.8   \n",
       "\n",
       "    Clay  CaCO3    CEC  Output  \n",
       "0    8.9   6.72   7.81       0  \n",
       "1    5.7   4.61   7.19       0  \n",
       "2    8.6   1.53  12.32       0  \n",
       "3    4.4   0.00   1.60       1  \n",
       "4    4.4   9.08   7.21       1  \n",
       "..   ...    ...    ...     ...  \n",
       "95   9.4   4.23   8.81       0  \n",
       "96   3.2   0.00   5.58       1  \n",
       "97   6.8   3.85   7.26       0  \n",
       "98   7.3   0.00   3.10       1  \n",
       "99  12.7   4.86   6.51       0  \n",
       "\n",
       "[100 rows x 17 columns]"
      ]
     },
     "execution_count": 31,
     "metadata": {},
     "output_type": "execute_result"
    }
   ],
   "source": [
    "soil_data"
   ]
  },
  {
   "cell_type": "code",
   "execution_count": 33,
   "id": "fbf399e3",
   "metadata": {},
   "outputs": [],
   "source": [
    "x = soil_data[['pH', 'EC', 'OC', 'OM', 'N', 'P', 'K', 'Zn', 'Fe', 'Cu', 'Mn', 'Sand',\n",
    "       'Silt', 'Clay', 'CaCO3', 'CEC']]"
   ]
  },
  {
   "cell_type": "code",
   "execution_count": 34,
   "id": "d03d3c00",
   "metadata": {},
   "outputs": [],
   "source": [
    "y = soil_data['Output']"
   ]
  },
  {
   "cell_type": "code",
   "execution_count": 35,
   "id": "e000f17d",
   "metadata": {},
   "outputs": [],
   "source": [
    "x_train, x_test, y_train, y_test = train_test_split(x, y, test_size = 0.3)"
   ]
  },
  {
   "cell_type": "code",
   "execution_count": 36,
   "id": "bf91aab6",
   "metadata": {},
   "outputs": [
    {
     "data": {
      "text/html": [
       "<style>#sk-container-id-1 {color: black;background-color: white;}#sk-container-id-1 pre{padding: 0;}#sk-container-id-1 div.sk-toggleable {background-color: white;}#sk-container-id-1 label.sk-toggleable__label {cursor: pointer;display: block;width: 100%;margin-bottom: 0;padding: 0.3em;box-sizing: border-box;text-align: center;}#sk-container-id-1 label.sk-toggleable__label-arrow:before {content: \"▸\";float: left;margin-right: 0.25em;color: #696969;}#sk-container-id-1 label.sk-toggleable__label-arrow:hover:before {color: black;}#sk-container-id-1 div.sk-estimator:hover label.sk-toggleable__label-arrow:before {color: black;}#sk-container-id-1 div.sk-toggleable__content {max-height: 0;max-width: 0;overflow: hidden;text-align: left;background-color: #f0f8ff;}#sk-container-id-1 div.sk-toggleable__content pre {margin: 0.2em;color: black;border-radius: 0.25em;background-color: #f0f8ff;}#sk-container-id-1 input.sk-toggleable__control:checked~div.sk-toggleable__content {max-height: 200px;max-width: 100%;overflow: auto;}#sk-container-id-1 input.sk-toggleable__control:checked~label.sk-toggleable__label-arrow:before {content: \"▾\";}#sk-container-id-1 div.sk-estimator input.sk-toggleable__control:checked~label.sk-toggleable__label {background-color: #d4ebff;}#sk-container-id-1 div.sk-label input.sk-toggleable__control:checked~label.sk-toggleable__label {background-color: #d4ebff;}#sk-container-id-1 input.sk-hidden--visually {border: 0;clip: rect(1px 1px 1px 1px);clip: rect(1px, 1px, 1px, 1px);height: 1px;margin: -1px;overflow: hidden;padding: 0;position: absolute;width: 1px;}#sk-container-id-1 div.sk-estimator {font-family: monospace;background-color: #f0f8ff;border: 1px dotted black;border-radius: 0.25em;box-sizing: border-box;margin-bottom: 0.5em;}#sk-container-id-1 div.sk-estimator:hover {background-color: #d4ebff;}#sk-container-id-1 div.sk-parallel-item::after {content: \"\";width: 100%;border-bottom: 1px solid gray;flex-grow: 1;}#sk-container-id-1 div.sk-label:hover label.sk-toggleable__label {background-color: #d4ebff;}#sk-container-id-1 div.sk-serial::before {content: \"\";position: absolute;border-left: 1px solid gray;box-sizing: border-box;top: 0;bottom: 0;left: 50%;z-index: 0;}#sk-container-id-1 div.sk-serial {display: flex;flex-direction: column;align-items: center;background-color: white;padding-right: 0.2em;padding-left: 0.2em;position: relative;}#sk-container-id-1 div.sk-item {position: relative;z-index: 1;}#sk-container-id-1 div.sk-parallel {display: flex;align-items: stretch;justify-content: center;background-color: white;position: relative;}#sk-container-id-1 div.sk-item::before, #sk-container-id-1 div.sk-parallel-item::before {content: \"\";position: absolute;border-left: 1px solid gray;box-sizing: border-box;top: 0;bottom: 0;left: 50%;z-index: -1;}#sk-container-id-1 div.sk-parallel-item {display: flex;flex-direction: column;z-index: 1;position: relative;background-color: white;}#sk-container-id-1 div.sk-parallel-item:first-child::after {align-self: flex-end;width: 50%;}#sk-container-id-1 div.sk-parallel-item:last-child::after {align-self: flex-start;width: 50%;}#sk-container-id-1 div.sk-parallel-item:only-child::after {width: 0;}#sk-container-id-1 div.sk-dashed-wrapped {border: 1px dashed gray;margin: 0 0.4em 0.5em 0.4em;box-sizing: border-box;padding-bottom: 0.4em;background-color: white;}#sk-container-id-1 div.sk-label label {font-family: monospace;font-weight: bold;display: inline-block;line-height: 1.2em;}#sk-container-id-1 div.sk-label-container {text-align: center;}#sk-container-id-1 div.sk-container {/* jupyter's `normalize.less` sets `[hidden] { display: none; }` but bootstrap.min.css set `[hidden] { display: none !important; }` so we also need the `!important` here to be able to override the default hidden behavior on the sphinx rendered scikit-learn.org. See: https://github.com/scikit-learn/scikit-learn/issues/21755 */display: inline-block !important;position: relative;}#sk-container-id-1 div.sk-text-repr-fallback {display: none;}</style><div id=\"sk-container-id-1\" class=\"sk-top-container\"><div class=\"sk-text-repr-fallback\"><pre>LinearRegression()</pre><b>In a Jupyter environment, please rerun this cell to show the HTML representation or trust the notebook. <br />On GitHub, the HTML representation is unable to render, please try loading this page with nbviewer.org.</b></div><div class=\"sk-container\" hidden><div class=\"sk-item\"><div class=\"sk-estimator sk-toggleable\"><input class=\"sk-toggleable__control sk-hidden--visually\" id=\"sk-estimator-id-1\" type=\"checkbox\" checked><label for=\"sk-estimator-id-1\" class=\"sk-toggleable__label sk-toggleable__label-arrow\">LinearRegression</label><div class=\"sk-toggleable__content\"><pre>LinearRegression()</pre></div></div></div></div></div>"
      ],
      "text/plain": [
       "LinearRegression()"
      ]
     },
     "execution_count": 36,
     "metadata": {},
     "output_type": "execute_result"
    }
   ],
   "source": [
    "model.fit(x_train, y_train)"
   ]
  },
  {
   "cell_type": "code",
   "execution_count": 37,
   "id": "7368fc89",
   "metadata": {},
   "outputs": [
    {
     "name": "stdout",
     "output_type": "stream",
     "text": [
      "[-1.95161350e-01  1.52917529e-01  2.66716914e+01 -1.60389254e+01\n",
      "  2.56669949e-03 -1.20148845e-03  6.31780703e-04 -1.99446224e-01\n",
      " -3.40552817e-02 -8.30484920e-03 -7.67132638e-02  3.13563325e-02\n",
      "  1.09732111e-02 -4.23295436e-02 -1.39338018e-02 -4.47162187e-02]\n"
     ]
    }
   ],
   "source": [
    "print(model.coef_)"
   ]
  },
  {
   "cell_type": "code",
   "execution_count": 38,
   "id": "a8120e08",
   "metadata": {},
   "outputs": [
    {
     "name": "stdout",
     "output_type": "stream",
     "text": [
      "-0.08170888239553453\n"
     ]
    }
   ],
   "source": [
    "print(model.intercept_)"
   ]
  },
  {
   "cell_type": "code",
   "execution_count": 39,
   "id": "f5f6b624",
   "metadata": {},
   "outputs": [
    {
     "data": {
      "text/html": [
       "<div>\n",
       "<style scoped>\n",
       "    .dataframe tbody tr th:only-of-type {\n",
       "        vertical-align: middle;\n",
       "    }\n",
       "\n",
       "    .dataframe tbody tr th {\n",
       "        vertical-align: top;\n",
       "    }\n",
       "\n",
       "    .dataframe thead th {\n",
       "        text-align: right;\n",
       "    }\n",
       "</style>\n",
       "<table border=\"1\" class=\"dataframe\">\n",
       "  <thead>\n",
       "    <tr style=\"text-align: right;\">\n",
       "      <th></th>\n",
       "      <th>Coeff</th>\n",
       "    </tr>\n",
       "  </thead>\n",
       "  <tbody>\n",
       "    <tr>\n",
       "      <th>pH</th>\n",
       "      <td>-0.195161</td>\n",
       "    </tr>\n",
       "    <tr>\n",
       "      <th>EC</th>\n",
       "      <td>0.152918</td>\n",
       "    </tr>\n",
       "    <tr>\n",
       "      <th>OC</th>\n",
       "      <td>26.671691</td>\n",
       "    </tr>\n",
       "    <tr>\n",
       "      <th>OM</th>\n",
       "      <td>-16.038925</td>\n",
       "    </tr>\n",
       "    <tr>\n",
       "      <th>N</th>\n",
       "      <td>0.002567</td>\n",
       "    </tr>\n",
       "    <tr>\n",
       "      <th>P</th>\n",
       "      <td>-0.001201</td>\n",
       "    </tr>\n",
       "    <tr>\n",
       "      <th>K</th>\n",
       "      <td>0.000632</td>\n",
       "    </tr>\n",
       "    <tr>\n",
       "      <th>Zn</th>\n",
       "      <td>-0.199446</td>\n",
       "    </tr>\n",
       "    <tr>\n",
       "      <th>Fe</th>\n",
       "      <td>-0.034055</td>\n",
       "    </tr>\n",
       "    <tr>\n",
       "      <th>Cu</th>\n",
       "      <td>-0.008305</td>\n",
       "    </tr>\n",
       "    <tr>\n",
       "      <th>Mn</th>\n",
       "      <td>-0.076713</td>\n",
       "    </tr>\n",
       "    <tr>\n",
       "      <th>Sand</th>\n",
       "      <td>0.031356</td>\n",
       "    </tr>\n",
       "    <tr>\n",
       "      <th>Silt</th>\n",
       "      <td>0.010973</td>\n",
       "    </tr>\n",
       "    <tr>\n",
       "      <th>Clay</th>\n",
       "      <td>-0.042330</td>\n",
       "    </tr>\n",
       "    <tr>\n",
       "      <th>CaCO3</th>\n",
       "      <td>-0.013934</td>\n",
       "    </tr>\n",
       "    <tr>\n",
       "      <th>CEC</th>\n",
       "      <td>-0.044716</td>\n",
       "    </tr>\n",
       "  </tbody>\n",
       "</table>\n",
       "</div>"
      ],
      "text/plain": [
       "           Coeff\n",
       "pH     -0.195161\n",
       "EC      0.152918\n",
       "OC     26.671691\n",
       "OM    -16.038925\n",
       "N       0.002567\n",
       "P      -0.001201\n",
       "K       0.000632\n",
       "Zn     -0.199446\n",
       "Fe     -0.034055\n",
       "Cu     -0.008305\n",
       "Mn     -0.076713\n",
       "Sand    0.031356\n",
       "Silt    0.010973\n",
       "Clay   -0.042330\n",
       "CaCO3  -0.013934\n",
       "CEC    -0.044716"
      ]
     },
     "execution_count": 39,
     "metadata": {},
     "output_type": "execute_result"
    }
   ],
   "source": [
    "pd.DataFrame(model.coef_, x.columns, columns = ['Coeff'])"
   ]
  },
  {
   "cell_type": "code",
   "execution_count": 40,
   "id": "cf7460cf",
   "metadata": {},
   "outputs": [],
   "source": [
    "predictions = model.predict(x_test)"
   ]
  },
  {
   "cell_type": "code",
   "execution_count": 41,
   "id": "a214ba40",
   "metadata": {},
   "outputs": [
    {
     "data": {
      "text/plain": [
       "<matplotlib.collections.PathCollection at 0x248fe725900>"
      ]
     },
     "execution_count": 41,
     "metadata": {},
     "output_type": "execute_result"
    },
    {
     "data": {
      "image/png": "[encoded data removed]",
      "text/plain": [
       "<Figure size 640x480 with 1 Axes>"
      ]
     },
     "metadata": {},
     "output_type": "display_data"
    }
   ],
   "source": [
    "plt.scatter(y_test, predictions)"
   ]
  },
  {
   "cell_type": "code",
   "execution_count": 42,
   "id": "57f4cde8",
   "metadata": {},
   "outputs": [
    {
     "data": {
      "text/plain": [
       "(array([2., 1., 1., 3., 6., 5., 5., 1., 4., 2.]),\n",
       " array([-0.73096311, -0.60432709, -0.47769107, -0.35105504, -0.22441902,\n",
       "        -0.09778299,  0.02885303,  0.15548905,  0.28212508,  0.4087611 ,\n",
       "         0.53539713]),\n",
       " <BarContainer object of 10 artists>)"
      ]
     },
     "execution_count": 42,
     "metadata": {},
     "output_type": "execute_result"
    },
    {
     "data": {
      "image/png": "[encoded data removed]",
      "text/plain": [
       "<Figure size 640x480 with 1 Axes>"
      ]
     },
     "metadata": {},
     "output_type": "display_data"
    }
   ],
   "source": [
    "plt.hist(y_test - predictions)"
   ]
  },
  {
   "cell_type": "code",
   "execution_count": 43,
   "id": "d9f09290",
   "metadata": {},
   "outputs": [],
   "source": [
    "from sklearn import metrics"
   ]
  },
  {
   "cell_type": "code",
   "execution_count": 44,
   "id": "cb5fe638",
   "metadata": {},
   "outputs": [
    {
     "data": {
      "text/plain": [
       "0.24474604334040595"
      ]
     },
     "execution_count": 44,
     "metadata": {},
     "output_type": "execute_result"
    }
   ],
   "source": [
    "metrics.mean_absolute_error(y_test, predictions)"
   ]
  },
  {
   "cell_type": "code",
   "execution_count": 45,
   "id": "2a1e5ebd",
   "metadata": {},
   "outputs": [
    {
     "data": {
      "text/plain": [
       "0.09448193245701168"
      ]
     },
     "execution_count": 45,
     "metadata": {},
     "output_type": "execute_result"
    }
   ],
   "source": [
    "metrics.mean_squared_error(y_test, predictions)"
   ]
  },
  {
   "cell_type": "code",
   "execution_count": 46,
   "id": "65c7c2ec",
   "metadata": {},
   "outputs": [
    {
     "data": {
      "text/plain": [
       "0.3073791347131612"
      ]
     },
     "execution_count": 46,
     "metadata": {},
     "output_type": "execute_result"
    }
   ],
   "source": [
    "np.sqrt(metrics.mean_squared_error(y_test, predictions))"
   ]
  },
  {
   "cell_type": "code",
   "execution_count": 49,
   "id": "eaab6b29",
   "metadata": {},
   "outputs": [],
   "source": [
    "import pickle\n",
    "filename = 'models/soil-yield-prediction.sav'\n",
    "pickle.dump(model, open(filename, 'wb'))"
   ]
  }
 ],
 "metadata": {
  "kernelspec": {
   "display_name": "Python 3 (ipykernel)",
   "language": "python",
   "name": "python3"
  },
  "language_info": {
   "codemirror_mode": {
    "name": "ipython",
    "version": 3
   },
   "file_extension": ".py",
   "mimetype": "text/x-python",
   "name": "python",
   "nbconvert_exporter": "python",
   "pygments_lexer": "ipython3",
   "version": "3.10.10"
  }
 },
 "nbformat": 4,
 "nbformat_minor": 5
}
